{
 "cells": [
  {
   "cell_type": "markdown",
   "id": "7a6b92d1",
   "metadata": {},
   "source": [
    "# Pre-requisites"
   ]
  },
  {
   "cell_type": "code",
   "execution_count": null,
   "id": "89a91ea0",
   "metadata": {},
   "outputs": [],
   "source": [
    "%load_ext autoreload\n",
    "%autoreload 2"
   ]
  },
  {
   "cell_type": "code",
   "execution_count": 2,
   "id": "8a257128",
   "metadata": {},
   "outputs": [
    {
     "name": "stdout",
     "output_type": "stream",
     "text": [
      "\n",
      "Loading dataset: AIRBUS.\n"
     ]
    }
   ],
   "source": [
    "import os\n",
    "# --- On headless systems, uncomment below ---\n",
    "os.environ[\"PYOPENGL_PLATFORM\"] = \"egl\"\n",
    "\n",
    "import src.Dataset as Dataset\n",
    "\n",
    "name = \"AIRBUS\"\n",
    "ds = Dataset.init_dataset(name)\n",
    "ds.load_dataset(synthetic_only=True)"
   ]
  },
  {
   "cell_type": "markdown",
   "id": "f3632685",
   "metadata": {},
   "source": [
    "# See random dataset samples"
   ]
  },
  {
   "cell_type": "code",
   "execution_count": 5,
   "id": "0a3e01a5",
   "metadata": {},
   "outputs": [],
   "source": [
    "import matplotlib.pyplot as plt"
   ]
  },
  {
   "cell_type": "code",
   "execution_count": null,
   "id": "e71dad57",
   "metadata": {},
   "outputs": [],
   "source": [
    "s = ds.rand_train()\n",
    "ims = [s.masked_image, s.masked_image_with_axes, s.masked_image_with_axes_and_kps,\n",
    "       s.normalized_image,s.normalized_image_with_axes, s.masked_image_with_axes_bbox_and_kps]\n",
    "fig, axes = plt.subplots(2, 3, figsize=(12, 8))\n",
    "for im,ax in zip(ims,axes.flat):\n",
    "    sample = ds.rand_train()\n",
    "    ax.imshow(im)\n",
    "    ax.axis('off')\n",
    "plt.tight_layout()\n",
    "plt.show()\n"
   ]
  },
  {
   "cell_type": "markdown",
   "id": "d16daa41",
   "metadata": {},
   "source": [
    "# More to come later..."
   ]
  },
  {
   "cell_type": "markdown",
   "id": "818ea99a",
   "metadata": {},
   "source": [
    "Feel free in the meantime to have a look at the src."
   ]
  }
 ],
 "metadata": {
  "kernelspec": {
   "display_name": "visy-reve-py-3sCUh-vq-py3.11",
   "language": "python",
   "name": "python3"
  },
  "language_info": {
   "codemirror_mode": {
    "name": "ipython",
    "version": 3
   },
   "file_extension": ".py",
   "mimetype": "text/x-python",
   "name": "python",
   "nbconvert_exporter": "python",
   "pygments_lexer": "ipython3",
   "version": "3.11.7"
  }
 },
 "nbformat": 4,
 "nbformat_minor": 5
}
